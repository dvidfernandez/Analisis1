{
 "cells": [
  {
   "cell_type": "markdown",
   "id": "22e5f1df",
   "metadata": {},
   "source": [
    "Analisis de datos automatizado"
   ]
  },
  {
   "cell_type": "code",
   "execution_count": null,
   "id": "430b2d0a",
   "metadata": {},
   "outputs": [],
   "source": [
    "import yfinance"
   ]
  },
  {
   "cell_type": "code",
   "execution_count": null,
   "id": "11dcb11e",
   "metadata": {},
   "outputs": [
    {
     "data": {
      "text/html": [
       "<div>\n",
       "<style scoped>\n",
       "    .dataframe tbody tr th:only-of-type {\n",
       "        vertical-align: middle;\n",
       "    }\n",
       "\n",
       "    .dataframe tbody tr th {\n",
       "        vertical-align: top;\n",
       "    }\n",
       "\n",
       "    .dataframe thead th {\n",
       "        text-align: right;\n",
       "    }\n",
       "</style>\n",
       "<table border=\"1\" class=\"dataframe\">\n",
       "  <thead>\n",
       "    <tr style=\"text-align: right;\">\n",
       "      <th></th>\n",
       "      <th>Open</th>\n",
       "      <th>High</th>\n",
       "      <th>Low</th>\n",
       "      <th>Close</th>\n",
       "      <th>Volume</th>\n",
       "      <th>Dividends</th>\n",
       "      <th>Stock Splits</th>\n",
       "    </tr>\n",
       "    <tr>\n",
       "      <th>Date</th>\n",
       "      <th></th>\n",
       "      <th></th>\n",
       "      <th></th>\n",
       "      <th></th>\n",
       "      <th></th>\n",
       "      <th></th>\n",
       "      <th></th>\n",
       "    </tr>\n",
       "  </thead>\n",
       "  <tbody>\n",
       "    <tr>\n",
       "      <th>2024-12-30 00:00:00-05:00</th>\n",
       "      <td>7.56</td>\n",
       "      <td>7.75</td>\n",
       "      <td>7.55</td>\n",
       "      <td>7.680</td>\n",
       "      <td>2143500</td>\n",
       "      <td>0.0</td>\n",
       "      <td>0.0</td>\n",
       "    </tr>\n",
       "    <tr>\n",
       "      <th>2024-12-31 00:00:00-05:00</th>\n",
       "      <td>7.70</td>\n",
       "      <td>7.96</td>\n",
       "      <td>7.68</td>\n",
       "      <td>7.920</td>\n",
       "      <td>2005000</td>\n",
       "      <td>0.0</td>\n",
       "      <td>0.0</td>\n",
       "    </tr>\n",
       "    <tr>\n",
       "      <th>2025-01-02 00:00:00-05:00</th>\n",
       "      <td>8.00</td>\n",
       "      <td>8.24</td>\n",
       "      <td>7.98</td>\n",
       "      <td>8.220</td>\n",
       "      <td>3179400</td>\n",
       "      <td>0.0</td>\n",
       "      <td>0.0</td>\n",
       "    </tr>\n",
       "    <tr>\n",
       "      <th>2025-01-03 00:00:00-05:00</th>\n",
       "      <td>8.25</td>\n",
       "      <td>8.30</td>\n",
       "      <td>8.14</td>\n",
       "      <td>8.260</td>\n",
       "      <td>1941600</td>\n",
       "      <td>0.0</td>\n",
       "      <td>0.0</td>\n",
       "    </tr>\n",
       "    <tr>\n",
       "      <th>2025-01-06 00:00:00-05:00</th>\n",
       "      <td>8.33</td>\n",
       "      <td>8.53</td>\n",
       "      <td>8.28</td>\n",
       "      <td>8.300</td>\n",
       "      <td>2145500</td>\n",
       "      <td>0.0</td>\n",
       "      <td>0.0</td>\n",
       "    </tr>\n",
       "    <tr>\n",
       "      <th>...</th>\n",
       "      <td>...</td>\n",
       "      <td>...</td>\n",
       "      <td>...</td>\n",
       "      <td>...</td>\n",
       "      <td>...</td>\n",
       "      <td>...</td>\n",
       "      <td>...</td>\n",
       "    </tr>\n",
       "    <tr>\n",
       "      <th>2025-06-24 00:00:00-04:00</th>\n",
       "      <td>9.32</td>\n",
       "      <td>9.52</td>\n",
       "      <td>9.23</td>\n",
       "      <td>9.400</td>\n",
       "      <td>3190000</td>\n",
       "      <td>0.0</td>\n",
       "      <td>0.0</td>\n",
       "    </tr>\n",
       "    <tr>\n",
       "      <th>2025-06-25 00:00:00-04:00</th>\n",
       "      <td>9.35</td>\n",
       "      <td>9.45</td>\n",
       "      <td>9.26</td>\n",
       "      <td>9.330</td>\n",
       "      <td>3331800</td>\n",
       "      <td>0.0</td>\n",
       "      <td>0.0</td>\n",
       "    </tr>\n",
       "    <tr>\n",
       "      <th>2025-06-26 00:00:00-04:00</th>\n",
       "      <td>9.33</td>\n",
       "      <td>9.38</td>\n",
       "      <td>9.12</td>\n",
       "      <td>9.240</td>\n",
       "      <td>3312900</td>\n",
       "      <td>0.0</td>\n",
       "      <td>0.0</td>\n",
       "    </tr>\n",
       "    <tr>\n",
       "      <th>2025-06-27 00:00:00-04:00</th>\n",
       "      <td>9.24</td>\n",
       "      <td>9.24</td>\n",
       "      <td>8.88</td>\n",
       "      <td>8.930</td>\n",
       "      <td>2794100</td>\n",
       "      <td>0.0</td>\n",
       "      <td>0.0</td>\n",
       "    </tr>\n",
       "    <tr>\n",
       "      <th>2025-06-30 00:00:00-04:00</th>\n",
       "      <td>8.88</td>\n",
       "      <td>8.93</td>\n",
       "      <td>8.80</td>\n",
       "      <td>8.855</td>\n",
       "      <td>1346802</td>\n",
       "      <td>0.0</td>\n",
       "      <td>0.0</td>\n",
       "    </tr>\n",
       "  </tbody>\n",
       "</table>\n",
       "<p>124 rows × 7 columns</p>\n",
       "</div>"
      ],
      "text/plain": [
       "                           Open  High   Low  Close   Volume  Dividends  \\\n",
       "Date                                                                     \n",
       "2024-12-30 00:00:00-05:00  7.56  7.75  7.55  7.680  2143500        0.0   \n",
       "2024-12-31 00:00:00-05:00  7.70  7.96  7.68  7.920  2005000        0.0   \n",
       "2025-01-02 00:00:00-05:00  8.00  8.24  7.98  8.220  3179400        0.0   \n",
       "2025-01-03 00:00:00-05:00  8.25  8.30  8.14  8.260  1941600        0.0   \n",
       "2025-01-06 00:00:00-05:00  8.33  8.53  8.28  8.300  2145500        0.0   \n",
       "...                         ...   ...   ...    ...      ...        ...   \n",
       "2025-06-24 00:00:00-04:00  9.32  9.52  9.23  9.400  3190000        0.0   \n",
       "2025-06-25 00:00:00-04:00  9.35  9.45  9.26  9.330  3331800        0.0   \n",
       "2025-06-26 00:00:00-04:00  9.33  9.38  9.12  9.240  3312900        0.0   \n",
       "2025-06-27 00:00:00-04:00  9.24  9.24  8.88  8.930  2794100        0.0   \n",
       "2025-06-30 00:00:00-04:00  8.88  8.93  8.80  8.855  1346802        0.0   \n",
       "\n",
       "                           Stock Splits  \n",
       "Date                                     \n",
       "2024-12-30 00:00:00-05:00           0.0  \n",
       "2024-12-31 00:00:00-05:00           0.0  \n",
       "2025-01-02 00:00:00-05:00           0.0  \n",
       "2025-01-03 00:00:00-05:00           0.0  \n",
       "2025-01-06 00:00:00-05:00           0.0  \n",
       "...                                 ...  \n",
       "2025-06-24 00:00:00-04:00           0.0  \n",
       "2025-06-25 00:00:00-04:00           0.0  \n",
       "2025-06-26 00:00:00-04:00           0.0  \n",
       "2025-06-27 00:00:00-04:00           0.0  \n",
       "2025-06-30 00:00:00-04:00           0.0  \n",
       "\n",
       "[124 rows x 7 columns]"
      ]
     },
     "execution_count": 4,
     "metadata": {},
     "output_type": "execute_result"
    }
   ],
   "source": [
    "yfinance.Ticker(\"EC\").history(\"6mo\")"
   ]
  },
  {
   "cell_type": "code",
   "execution_count": null,
   "id": "44b470b3",
   "metadata": {},
   "outputs": [
    {
     "data": {
      "text/html": [
       "<div>\n",
       "<style scoped>\n",
       "    .dataframe tbody tr th:only-of-type {\n",
       "        vertical-align: middle;\n",
       "    }\n",
       "\n",
       "    .dataframe tbody tr th {\n",
       "        vertical-align: top;\n",
       "    }\n",
       "\n",
       "    .dataframe thead th {\n",
       "        text-align: right;\n",
       "    }\n",
       "</style>\n",
       "<table border=\"1\" class=\"dataframe\">\n",
       "  <thead>\n",
       "    <tr style=\"text-align: right;\">\n",
       "      <th></th>\n",
       "      <th>Open</th>\n",
       "      <th>High</th>\n",
       "      <th>Low</th>\n",
       "      <th>Close</th>\n",
       "      <th>Volume</th>\n",
       "      <th>Dividends</th>\n",
       "      <th>Stock Splits</th>\n",
       "    </tr>\n",
       "    <tr>\n",
       "      <th>Date</th>\n",
       "      <th></th>\n",
       "      <th></th>\n",
       "      <th></th>\n",
       "      <th></th>\n",
       "      <th></th>\n",
       "      <th></th>\n",
       "      <th></th>\n",
       "    </tr>\n",
       "  </thead>\n",
       "  <tbody>\n",
       "    <tr>\n",
       "      <th>2024-12-30 00:00:00-05:00</th>\n",
       "      <td>7.56</td>\n",
       "      <td>7.75</td>\n",
       "      <td>7.55</td>\n",
       "      <td>7.680</td>\n",
       "      <td>2143500</td>\n",
       "      <td>0.0</td>\n",
       "      <td>0.0</td>\n",
       "    </tr>\n",
       "    <tr>\n",
       "      <th>2024-12-31 00:00:00-05:00</th>\n",
       "      <td>7.70</td>\n",
       "      <td>7.96</td>\n",
       "      <td>7.68</td>\n",
       "      <td>7.920</td>\n",
       "      <td>2005000</td>\n",
       "      <td>0.0</td>\n",
       "      <td>0.0</td>\n",
       "    </tr>\n",
       "    <tr>\n",
       "      <th>2025-01-02 00:00:00-05:00</th>\n",
       "      <td>8.00</td>\n",
       "      <td>8.24</td>\n",
       "      <td>7.98</td>\n",
       "      <td>8.220</td>\n",
       "      <td>3179400</td>\n",
       "      <td>0.0</td>\n",
       "      <td>0.0</td>\n",
       "    </tr>\n",
       "    <tr>\n",
       "      <th>2025-01-03 00:00:00-05:00</th>\n",
       "      <td>8.25</td>\n",
       "      <td>8.30</td>\n",
       "      <td>8.14</td>\n",
       "      <td>8.260</td>\n",
       "      <td>1941600</td>\n",
       "      <td>0.0</td>\n",
       "      <td>0.0</td>\n",
       "    </tr>\n",
       "    <tr>\n",
       "      <th>2025-01-06 00:00:00-05:00</th>\n",
       "      <td>8.33</td>\n",
       "      <td>8.53</td>\n",
       "      <td>8.28</td>\n",
       "      <td>8.300</td>\n",
       "      <td>2145500</td>\n",
       "      <td>0.0</td>\n",
       "      <td>0.0</td>\n",
       "    </tr>\n",
       "    <tr>\n",
       "      <th>...</th>\n",
       "      <td>...</td>\n",
       "      <td>...</td>\n",
       "      <td>...</td>\n",
       "      <td>...</td>\n",
       "      <td>...</td>\n",
       "      <td>...</td>\n",
       "      <td>...</td>\n",
       "    </tr>\n",
       "    <tr>\n",
       "      <th>2025-06-24 00:00:00-04:00</th>\n",
       "      <td>9.32</td>\n",
       "      <td>9.52</td>\n",
       "      <td>9.23</td>\n",
       "      <td>9.400</td>\n",
       "      <td>3190000</td>\n",
       "      <td>0.0</td>\n",
       "      <td>0.0</td>\n",
       "    </tr>\n",
       "    <tr>\n",
       "      <th>2025-06-25 00:00:00-04:00</th>\n",
       "      <td>9.35</td>\n",
       "      <td>9.45</td>\n",
       "      <td>9.26</td>\n",
       "      <td>9.330</td>\n",
       "      <td>3331800</td>\n",
       "      <td>0.0</td>\n",
       "      <td>0.0</td>\n",
       "    </tr>\n",
       "    <tr>\n",
       "      <th>2025-06-26 00:00:00-04:00</th>\n",
       "      <td>9.33</td>\n",
       "      <td>9.38</td>\n",
       "      <td>9.12</td>\n",
       "      <td>9.240</td>\n",
       "      <td>3312900</td>\n",
       "      <td>0.0</td>\n",
       "      <td>0.0</td>\n",
       "    </tr>\n",
       "    <tr>\n",
       "      <th>2025-06-27 00:00:00-04:00</th>\n",
       "      <td>9.24</td>\n",
       "      <td>9.24</td>\n",
       "      <td>8.88</td>\n",
       "      <td>8.930</td>\n",
       "      <td>2794100</td>\n",
       "      <td>0.0</td>\n",
       "      <td>0.0</td>\n",
       "    </tr>\n",
       "    <tr>\n",
       "      <th>2025-06-30 00:00:00-04:00</th>\n",
       "      <td>8.88</td>\n",
       "      <td>8.93</td>\n",
       "      <td>8.80</td>\n",
       "      <td>8.855</td>\n",
       "      <td>1347387</td>\n",
       "      <td>0.0</td>\n",
       "      <td>0.0</td>\n",
       "    </tr>\n",
       "  </tbody>\n",
       "</table>\n",
       "<p>124 rows × 7 columns</p>\n",
       "</div>"
      ],
      "text/plain": [
       "                           Open  High   Low  Close   Volume  Dividends  \\\n",
       "Date                                                                     \n",
       "2024-12-30 00:00:00-05:00  7.56  7.75  7.55  7.680  2143500        0.0   \n",
       "2024-12-31 00:00:00-05:00  7.70  7.96  7.68  7.920  2005000        0.0   \n",
       "2025-01-02 00:00:00-05:00  8.00  8.24  7.98  8.220  3179400        0.0   \n",
       "2025-01-03 00:00:00-05:00  8.25  8.30  8.14  8.260  1941600        0.0   \n",
       "2025-01-06 00:00:00-05:00  8.33  8.53  8.28  8.300  2145500        0.0   \n",
       "...                         ...   ...   ...    ...      ...        ...   \n",
       "2025-06-24 00:00:00-04:00  9.32  9.52  9.23  9.400  3190000        0.0   \n",
       "2025-06-25 00:00:00-04:00  9.35  9.45  9.26  9.330  3331800        0.0   \n",
       "2025-06-26 00:00:00-04:00  9.33  9.38  9.12  9.240  3312900        0.0   \n",
       "2025-06-27 00:00:00-04:00  9.24  9.24  8.88  8.930  2794100        0.0   \n",
       "2025-06-30 00:00:00-04:00  8.88  8.93  8.80  8.855  1347387        0.0   \n",
       "\n",
       "                           Stock Splits  \n",
       "Date                                     \n",
       "2024-12-30 00:00:00-05:00           0.0  \n",
       "2024-12-31 00:00:00-05:00           0.0  \n",
       "2025-01-02 00:00:00-05:00           0.0  \n",
       "2025-01-03 00:00:00-05:00           0.0  \n",
       "2025-01-06 00:00:00-05:00           0.0  \n",
       "...                                 ...  \n",
       "2025-06-24 00:00:00-04:00           0.0  \n",
       "2025-06-25 00:00:00-04:00           0.0  \n",
       "2025-06-26 00:00:00-04:00           0.0  \n",
       "2025-06-27 00:00:00-04:00           0.0  \n",
       "2025-06-30 00:00:00-04:00           0.0  \n",
       "\n",
       "[124 rows x 7 columns]"
      ]
     },
     "execution_count": 6,
     "metadata": {},
     "output_type": "execute_result"
    }
   ],
   "source": [
    "data = yfinance.Ticker(\"EC\").history(\"6mo\")\n",
    "data"
   ]
  },
  {
   "cell_type": "code",
   "execution_count": null,
   "id": "10bd0fc5",
   "metadata": {},
   "outputs": [
    {
     "data": {
      "text/plain": [
       "Date\n",
       "2024-12-30 00:00:00-05:00    7.75\n",
       "2024-12-31 00:00:00-05:00    7.96\n",
       "2025-01-02 00:00:00-05:00    8.24\n",
       "2025-01-03 00:00:00-05:00    8.30\n",
       "2025-01-06 00:00:00-05:00    8.53\n",
       "                             ... \n",
       "2025-06-24 00:00:00-04:00    9.52\n",
       "2025-06-25 00:00:00-04:00    9.45\n",
       "2025-06-26 00:00:00-04:00    9.38\n",
       "2025-06-27 00:00:00-04:00    9.24\n",
       "2025-06-30 00:00:00-04:00    8.93\n",
       "Name: High, Length: 124, dtype: float64"
      ]
     },
     "execution_count": 7,
     "metadata": {},
     "output_type": "execute_result"
    }
   ],
   "source": [
    "data.High"
   ]
  },
  {
   "cell_type": "code",
   "execution_count": null,
   "id": "8f5f8098",
   "metadata": {},
   "outputs": [
    {
     "data": {
      "text/plain": [
       "Date\n",
       "2024-12-30 00:00:00-05:00    7.56\n",
       "2024-12-31 00:00:00-05:00    7.70\n",
       "2025-01-02 00:00:00-05:00    8.00\n",
       "2025-01-03 00:00:00-05:00    8.25\n",
       "2025-01-06 00:00:00-05:00    8.33\n",
       "                             ... \n",
       "2025-06-24 00:00:00-04:00    9.32\n",
       "2025-06-25 00:00:00-04:00    9.35\n",
       "2025-06-26 00:00:00-04:00    9.33\n",
       "2025-06-27 00:00:00-04:00    9.24\n",
       "2025-06-30 00:00:00-04:00    8.88\n",
       "Name: Open, Length: 124, dtype: float64"
      ]
     },
     "execution_count": 8,
     "metadata": {},
     "output_type": "execute_result"
    }
   ],
   "source": [
    "data.Open\n"
   ]
  },
  {
   "cell_type": "code",
   "execution_count": null,
   "id": "56bdbfa2",
   "metadata": {},
   "outputs": [
    {
     "data": {
      "text/plain": [
       "Date\n",
       "2024-12-30 00:00:00-05:00    7.680\n",
       "2024-12-31 00:00:00-05:00    7.920\n",
       "2025-01-02 00:00:00-05:00    8.220\n",
       "2025-01-03 00:00:00-05:00    8.260\n",
       "2025-01-06 00:00:00-05:00    8.300\n",
       "                             ...  \n",
       "2025-06-24 00:00:00-04:00    9.400\n",
       "2025-06-25 00:00:00-04:00    9.330\n",
       "2025-06-26 00:00:00-04:00    9.240\n",
       "2025-06-27 00:00:00-04:00    8.930\n",
       "2025-06-30 00:00:00-04:00    8.855\n",
       "Name: Close, Length: 124, dtype: float64"
      ]
     },
     "execution_count": 9,
     "metadata": {},
     "output_type": "execute_result"
    }
   ],
   "source": [
    "data.Close"
   ]
  },
  {
   "cell_type": "markdown",
   "id": "583c3b5f",
   "metadata": {},
   "source": [
    "Generacion de informacion en graficos visuales"
   ]
  },
  {
   "cell_type": "code",
   "execution_count": null,
   "id": "5b72f609",
   "metadata": {},
   "outputs": [],
   "source": [
    "import matplotlib"
   ]
  },
  {
   "cell_type": "code",
   "execution_count": null,
   "id": "9b3276ec",
   "metadata": {},
   "outputs": [
    {
     "data": {
      "text/plain": [
       "<Axes: xlabel='Date'>"
      ]
     },
     "execution_count": 11,
     "metadata": {},
     "output_type": "execute_result"
    },
    {
     "data": {
      "image/png": "[encoded data removed]",
      "text/plain": [
       "<Figure size 640x480 with 1 Axes>"
      ]
     },
     "metadata": {},
     "output_type": "display_data"
    }
   ],
   "source": [
    "cierre = data.Close\n",
    "cierre.plot()"
   ]
  },
  {
   "cell_type": "markdown",
   "id": "6dba5e6d",
   "metadata": {},
   "source": [
    "Dinamizacion de ticker"
   ]
  },
  {
   "cell_type": "code",
   "execution_count": 19,
   "id": "e2c773bd",
   "metadata": {},
   "outputs": [
    {
     "data": {
      "text/plain": [
       "<Axes: xlabel='Date'>"
      ]
     },
     "execution_count": 19,
     "metadata": {},
     "output_type": "execute_result"
    },
    {
     "data": {
      "image/png": "[encoded data removed]",
      "text/plain": [
       "<Figure size 640x480 with 1 Axes>"
      ]
     },
     "metadata": {},
     "output_type": "display_data"
    }
   ],
   "source": [
    "ticker = input(\"Digita el codigo de la accion: \")\n",
    "data = yfinance.Ticker(ticker).history(\"6mo\")\n",
    "cierre = data.Close\n",
    "cierre.plot()\n"
   ]
  },
  {
   "cell_type": "markdown",
   "id": "0e24cb9d",
   "metadata": {},
   "source": [
    "Exportacion de imagen"
   ]
  },
  {
   "cell_type": "code",
   "execution_count": 32,
   "id": "6defa665",
   "metadata": {},
   "outputs": [
    {
     "data": {
      "image/png": "[encoded data removed]",
      "text/plain": [
       "<Figure size 640x480 with 1 Axes>"
      ]
     },
     "metadata": {},
     "output_type": "display_data"
    }
   ],
   "source": [
    "import yfinance\n",
    "import matplotlib.pyplot as plt\n",
    "import os\n",
    "\n",
    "ticker = input(\"Digita el codigo de la Accion: \")\n",
    "data = yfinance.Ticker(ticker).history(\"6mo\")\n",
    "cierre= data.Close\n",
    "\n",
    "plt.figure()\n",
    "cierre.plot(title=f\"Precio de cierre de ultimos 6 meses - {ticker}\")\n",
    "plt.xlabel(\"Mes\")\n",
    "plt.ylabel(\"Precio de cierre\")\n",
    "plt.tight_layout()\n",
    "\n",
    "escritorio = os.path.join(os.path.expanduser(\"~\"), \"Desktop\")\n",
    "nombreArchivo = f\"grafico_{ticker}.png\"\n",
    "rutaCompleta = os.path.join(escritorio, nombreArchivo)\n"
   ]
  },
  {
   "cell_type": "code",
   "execution_count": 24,
   "id": "86a01b2b",
   "metadata": {},
   "outputs": [
    {
     "data": {
      "text/plain": [
       "np.float64(242.05999755859375)"
      ]
     },
     "execution_count": 24,
     "metadata": {},
     "output_type": "execute_result"
    }
   ],
   "source": [
    "cierre.max()"
   ]
  },
  {
   "cell_type": "code",
   "execution_count": 25,
   "id": "1cb653ff",
   "metadata": {},
   "outputs": [
    {
     "data": {
      "text/plain": [
       "np.float64(167.32000732421875)"
      ]
     },
     "execution_count": 25,
     "metadata": {},
     "output_type": "execute_result"
    }
   ],
   "source": [
    "cierre.min()"
   ]
  },
  {
   "cell_type": "code",
   "execution_count": 26,
   "id": "e5864110",
   "metadata": {},
   "outputs": [
    {
     "data": {
      "text/plain": [
       "np.float64(207.28934466252562)"
      ]
     },
     "execution_count": 26,
     "metadata": {},
     "output_type": "execute_result"
    }
   ],
   "source": [
    "cierre.mean()"
   ]
  },
  {
   "cell_type": "code",
   "execution_count": 27,
   "id": "ea35e43a",
   "metadata": {},
   "outputs": [
    {
     "data": {
      "text/plain": [
       "242"
      ]
     },
     "execution_count": 27,
     "metadata": {},
     "output_type": "execute_result"
    }
   ],
   "source": [
    "round(cierre.max())"
   ]
  },
  {
   "cell_type": "code",
   "execution_count": 28,
   "id": "74a14f65",
   "metadata": {},
   "outputs": [
    {
     "name": "stdout",
     "output_type": "stream",
     "text": [
      "242\n",
      "167\n",
      "207\n"
     ]
    }
   ],
   "source": [
    "maximo = round(cierre.max())\n",
    "minimo = round(cierre.min())\n",
    "medio = round(cierre.mean())\n",
    "print(maximo)\n",
    "print(minimo)\n",
    "print(medio)"
   ]
  }
 ],
 "metadata": {
  "kernelspec": {
   "display_name": "Python 3",
   "language": "python",
   "name": "python3"
  },
  "language_info": {
   "codemirror_mode": {
    "name": "ipython",
    "version": 3
   },
   "file_extension": ".py",
   "mimetype": "text/x-python",
   "name": "python",
   "nbconvert_exporter": "python",
   "pygments_lexer": "ipython3",
   "version": "3.13.5"
  }
 },
 "nbformat": 4,
 "nbformat_minor": 5
}
